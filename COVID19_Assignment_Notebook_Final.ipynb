{
 "cells": [
  {
   "cell_type": "markdown",
   "metadata": {},
   "source": [
    "# Prediction of COVID-19 Cases using Supervised Machine Learning based on Patients' Symptoms"
   ]
  },
  {
   "cell_type": "markdown",
   "metadata": {},
   "source": [
    "<b>WQD7006:</b> Machine Learning for Data Science\n",
    "<br><b>Student Name:</b> Muhamad Haziq Bin Fuad\n",
    "<br><b>Student Matric Number:</b> S2031779"
   ]
  },
  {
   "cell_type": "markdown",
   "metadata": {},
   "source": [
    "## Introduction"
   ]
  },
  {
   "cell_type": "markdown",
   "metadata": {},
   "source": [
    "The Israeli Ministry of Health publicly released data of all individuals who were tested for SARS-CoV-2 via RT-PCR assay of a nasopharyngeal swab. During the first months of the COVID-19 pandemic in Israel, all diagnostic laboratory tests for COVID-19 were performed according to criteria determined by the Israeli Ministry of Health. While subject to change, the criteria implemented during the study period included the presence and severity of clinical symptoms, possible exposure to individuals confirmed to have COVID-19, certain geographical areas, and the risk of complications if infected. Except for a small minority who was tested under surveys among healthcare workers, all the individuals tested had indications for testing. In addition, all negative and positive COVID-19 cases this dataset were confirmed via RT-PCR assay.\n",
    "\n",
    "In this project, we propose a machine learning model that predicts a positive COVID-19 infection in a RT-PCR test through several basic and clinical information of the patients. The model was trained on data of all individuals in Israel tested for COVID-19 during the first months of the pandemic. Thus, our model can be implemented globally for effective screening and prioritization of testing for the virus in the general population."
   ]
  },
  {
   "cell_type": "markdown",
   "metadata": {},
   "source": [
    "## Objective"
   ]
  },
  {
   "cell_type": "markdown",
   "metadata": {},
   "source": [
    "1) To classify whether individuals with certain health symptoms are infected with COVID-19 using several classification methods.\n",
    "<br>2) To evaluate the performance of different supervised learning classification models"
   ]
  },
  {
   "cell_type": "markdown",
   "metadata": {},
   "source": [
    "## Coding"
   ]
  },
  {
   "cell_type": "markdown",
   "metadata": {},
   "source": [
    "### Importing packages"
   ]
  },
  {
   "cell_type": "code",
   "execution_count": 1,
   "metadata": {},
   "outputs": [],
   "source": [
    "# data extraction, manipulation, cleaning & feature engineering\n",
    "import pandas as pd\n",
    "import numpy as np\n",
    "\n",
    "# data visualization\n",
    "import seaborn as sns\n",
    "import matplotlib.pyplot as plt\n",
    "\n",
    "# encoding relevant features\n",
    "from sklearn.preprocessing import LabelEncoder\n",
    "\n",
    "# modeling\n",
    "from sklearn.model_selection import train_test_split\n",
    "from sklearn.naive_bayes import BernoulliNB, GaussianNB\n",
    "from sklearn.linear_model import LogisticRegression\n",
    "from sklearn.neighbors import KNeighborsClassifier\n",
    "from sklearn.ensemble import RandomForestClassifier\n",
    "from sklearn.tree import DecisionTreeClassifier\n",
    "from sklearn.svm import SVC\n",
    "from xgboost import XGBClassifier\n",
    "from sklearn import tree\n",
    "\n",
    "# model performance evaluation\n",
    "from sklearn.model_selection import cross_val_score\n",
    "from sklearn.metrics import confusion_matrix\n",
    "from sklearn.metrics import accuracy_score\n",
    "from sklearn.metrics import recall_score\n",
    "from sklearn.metrics import classification_report\n",
    "from sklearn.metrics import roc_auc_score\n",
    "from sklearn.metrics import roc_curve\n",
    "\n",
    "#hyperparameter tuning\n",
    "from sklearn.model_selection import GridSearchCV # grid search CV was taking hours to calculate all the combinations\n",
    "from sklearn.model_selection import RandomizedSearchCV"
   ]
  },
  {
   "cell_type": "markdown",
   "metadata": {},
   "source": [
    "### Step 1: Import data"
   ]
  },
  {
   "cell_type": "code",
   "execution_count": 2,
   "metadata": {},
   "outputs": [],
   "source": [
    "# importing dataset (in csv file format) and assigned it into 'df' variable by specifying the features types\n",
    "\n",
    "df = pd.read_csv(\"covid19_data.csv\", dtype={'cough':str,'fever':str, 'sore_throat':str, 'shortness_of_breath':str,\n",
    "                                            'head_ache':str}, parse_dates=['test_date'])"
   ]
  },
  {
   "cell_type": "code",
   "execution_count": 3,
   "metadata": {
    "scrolled": true
   },
   "outputs": [
    {
     "data": {
      "text/html": [
       "<div>\n",
       "<style scoped>\n",
       "    .dataframe tbody tr th:only-of-type {\n",
       "        vertical-align: middle;\n",
       "    }\n",
       "\n",
       "    .dataframe tbody tr th {\n",
       "        vertical-align: top;\n",
       "    }\n",
       "\n",
       "    .dataframe thead th {\n",
       "        text-align: right;\n",
       "    }\n",
       "</style>\n",
       "<table border=\"1\" class=\"dataframe\">\n",
       "  <thead>\n",
       "    <tr style=\"text-align: right;\">\n",
       "      <th></th>\n",
       "      <th>test_date</th>\n",
       "      <th>cough</th>\n",
       "      <th>fever</th>\n",
       "      <th>sore_throat</th>\n",
       "      <th>shortness_of_breath</th>\n",
       "      <th>head_ache</th>\n",
       "      <th>corona_result</th>\n",
       "      <th>age_60_and_above</th>\n",
       "      <th>gender</th>\n",
       "      <th>test_indication</th>\n",
       "    </tr>\n",
       "  </thead>\n",
       "  <tbody>\n",
       "    <tr>\n",
       "      <th>0</th>\n",
       "      <td>2020-04-30</td>\n",
       "      <td>0</td>\n",
       "      <td>0</td>\n",
       "      <td>0</td>\n",
       "      <td>0</td>\n",
       "      <td>0</td>\n",
       "      <td>negative</td>\n",
       "      <td>None</td>\n",
       "      <td>female</td>\n",
       "      <td>Other</td>\n",
       "    </tr>\n",
       "    <tr>\n",
       "      <th>1</th>\n",
       "      <td>2020-04-30</td>\n",
       "      <td>1</td>\n",
       "      <td>0</td>\n",
       "      <td>0</td>\n",
       "      <td>0</td>\n",
       "      <td>0</td>\n",
       "      <td>negative</td>\n",
       "      <td>None</td>\n",
       "      <td>female</td>\n",
       "      <td>Other</td>\n",
       "    </tr>\n",
       "    <tr>\n",
       "      <th>2</th>\n",
       "      <td>2020-04-30</td>\n",
       "      <td>0</td>\n",
       "      <td>1</td>\n",
       "      <td>0</td>\n",
       "      <td>0</td>\n",
       "      <td>0</td>\n",
       "      <td>negative</td>\n",
       "      <td>None</td>\n",
       "      <td>male</td>\n",
       "      <td>Other</td>\n",
       "    </tr>\n",
       "    <tr>\n",
       "      <th>3</th>\n",
       "      <td>2020-04-30</td>\n",
       "      <td>1</td>\n",
       "      <td>0</td>\n",
       "      <td>0</td>\n",
       "      <td>0</td>\n",
       "      <td>0</td>\n",
       "      <td>negative</td>\n",
       "      <td>None</td>\n",
       "      <td>female</td>\n",
       "      <td>Other</td>\n",
       "    </tr>\n",
       "    <tr>\n",
       "      <th>4</th>\n",
       "      <td>2020-04-30</td>\n",
       "      <td>1</td>\n",
       "      <td>0</td>\n",
       "      <td>0</td>\n",
       "      <td>0</td>\n",
       "      <td>0</td>\n",
       "      <td>negative</td>\n",
       "      <td>None</td>\n",
       "      <td>male</td>\n",
       "      <td>Other</td>\n",
       "    </tr>\n",
       "  </tbody>\n",
       "</table>\n",
       "</div>"
      ],
      "text/plain": [
       "   test_date cough fever sore_throat shortness_of_breath head_ache  \\\n",
       "0 2020-04-30     0     0           0                   0         0   \n",
       "1 2020-04-30     1     0           0                   0         0   \n",
       "2 2020-04-30     0     1           0                   0         0   \n",
       "3 2020-04-30     1     0           0                   0         0   \n",
       "4 2020-04-30     1     0           0                   0         0   \n",
       "\n",
       "  corona_result age_60_and_above  gender test_indication  \n",
       "0      negative             None  female           Other  \n",
       "1      negative             None  female           Other  \n",
       "2      negative             None    male           Other  \n",
       "3      negative             None  female           Other  \n",
       "4      negative             None    male           Other  "
      ]
     },
     "execution_count": 3,
     "metadata": {},
     "output_type": "execute_result"
    }
   ],
   "source": [
    "# general preview of the imported dataset (first 5 rows of the data)\n",
    "\n",
    "df.head()"
   ]
  },
  {
   "cell_type": "code",
   "execution_count": 4,
   "metadata": {},
   "outputs": [
    {
     "data": {
      "text/plain": [
       "(278848, 10)"
      ]
     },
     "execution_count": 4,
     "metadata": {},
     "output_type": "execute_result"
    }
   ],
   "source": [
    "df.shape"
   ]
  },
  {
   "cell_type": "code",
   "execution_count": 5,
   "metadata": {
    "scrolled": false
   },
   "outputs": [
    {
     "name": "stdout",
     "output_type": "stream",
     "text": [
      "<class 'pandas.core.frame.DataFrame'>\n",
      "RangeIndex: 278848 entries, 0 to 278847\n",
      "Data columns (total 10 columns):\n",
      " #   Column               Non-Null Count   Dtype         \n",
      "---  ------               --------------   -----         \n",
      " 0   test_date            278848 non-null  datetime64[ns]\n",
      " 1   cough                278848 non-null  object        \n",
      " 2   fever                278848 non-null  object        \n",
      " 3   sore_throat          278848 non-null  object        \n",
      " 4   shortness_of_breath  278848 non-null  object        \n",
      " 5   head_ache            278848 non-null  object        \n",
      " 6   corona_result        278848 non-null  object        \n",
      " 7   age_60_and_above     278848 non-null  object        \n",
      " 8   gender               278848 non-null  object        \n",
      " 9   test_indication      278848 non-null  object        \n",
      "dtypes: datetime64[ns](1), object(9)\n",
      "memory usage: 21.3+ MB\n"
     ]
    }
   ],
   "source": [
    "df.info()"
   ]
  },
  {
   "cell_type": "code",
   "execution_count": 6,
   "metadata": {},
   "outputs": [],
   "source": [
    "# column age will be dropped in this model since half of the data points are considered irrelevant and pose no meaning to the model"
   ]
  },
  {
   "cell_type": "markdown",
   "metadata": {},
   "source": [
    "###  Step 2: Data Cleaning & Preprocessing"
   ]
  },
  {
   "cell_type": "code",
   "execution_count": 7,
   "metadata": {},
   "outputs": [
    {
     "data": {
      "text/html": [
       "<div>\n",
       "<style scoped>\n",
       "    .dataframe tbody tr th:only-of-type {\n",
       "        vertical-align: middle;\n",
       "    }\n",
       "\n",
       "    .dataframe tbody tr th {\n",
       "        vertical-align: top;\n",
       "    }\n",
       "\n",
       "    .dataframe thead th {\n",
       "        text-align: right;\n",
       "    }\n",
       "</style>\n",
       "<table border=\"1\" class=\"dataframe\">\n",
       "  <thead>\n",
       "    <tr style=\"text-align: right;\">\n",
       "      <th></th>\n",
       "      <th>missing_values</th>\n",
       "      <th>percent_missing %</th>\n",
       "    </tr>\n",
       "  </thead>\n",
       "  <tbody>\n",
       "    <tr>\n",
       "      <th>test_date</th>\n",
       "      <td>0</td>\n",
       "      <td>0.0</td>\n",
       "    </tr>\n",
       "    <tr>\n",
       "      <th>cough</th>\n",
       "      <td>0</td>\n",
       "      <td>0.0</td>\n",
       "    </tr>\n",
       "    <tr>\n",
       "      <th>fever</th>\n",
       "      <td>0</td>\n",
       "      <td>0.0</td>\n",
       "    </tr>\n",
       "    <tr>\n",
       "      <th>sore_throat</th>\n",
       "      <td>0</td>\n",
       "      <td>0.0</td>\n",
       "    </tr>\n",
       "    <tr>\n",
       "      <th>shortness_of_breath</th>\n",
       "      <td>0</td>\n",
       "      <td>0.0</td>\n",
       "    </tr>\n",
       "    <tr>\n",
       "      <th>head_ache</th>\n",
       "      <td>0</td>\n",
       "      <td>0.0</td>\n",
       "    </tr>\n",
       "    <tr>\n",
       "      <th>corona_result</th>\n",
       "      <td>0</td>\n",
       "      <td>0.0</td>\n",
       "    </tr>\n",
       "    <tr>\n",
       "      <th>age_60_and_above</th>\n",
       "      <td>0</td>\n",
       "      <td>0.0</td>\n",
       "    </tr>\n",
       "    <tr>\n",
       "      <th>gender</th>\n",
       "      <td>0</td>\n",
       "      <td>0.0</td>\n",
       "    </tr>\n",
       "    <tr>\n",
       "      <th>test_indication</th>\n",
       "      <td>0</td>\n",
       "      <td>0.0</td>\n",
       "    </tr>\n",
       "  </tbody>\n",
       "</table>\n",
       "</div>"
      ],
      "text/plain": [
       "                     missing_values   percent_missing %\n",
       "test_date                          0                0.0\n",
       "cough                              0                0.0\n",
       "fever                              0                0.0\n",
       "sore_throat                        0                0.0\n",
       "shortness_of_breath                0                0.0\n",
       "head_ache                          0                0.0\n",
       "corona_result                      0                0.0\n",
       "age_60_and_above                   0                0.0\n",
       "gender                             0                0.0\n",
       "test_indication                    0                0.0"
      ]
     },
     "execution_count": 7,
     "metadata": {},
     "output_type": "execute_result"
    }
   ],
   "source": [
    "#checking for missing values in the dataframe\n",
    "\n",
    "missing_values = df.isnull().sum() # missing values\n",
    "percent_missing = df.isnull().sum()/df.shape[0]*100 # missing value in %\n",
    "\n",
    "value = {'missing_values ':missing_values, 'percent_missing %':percent_missing}\n",
    "missing_frame=pd.DataFrame(value)\n",
    "missing_frame"
   ]
  },
  {
   "cell_type": "code",
   "execution_count": 8,
   "metadata": {
    "scrolled": true
   },
   "outputs": [
    {
     "name": "stdout",
     "output_type": "stream",
     "text": [
      "0       84.765894\n",
      "1       15.143734\n",
      "None     0.090372\n",
      "Name: cough, dtype: float64 \n",
      "\n",
      "0       92.108963\n",
      "1        7.800666\n",
      "None     0.090372\n",
      "Name: fever, dtype: float64 \n",
      "\n",
      "0       99.308943\n",
      "1        0.690699\n",
      "None     0.000359\n",
      "Name: sore_throat, dtype: float64 \n",
      "\n",
      "0       99.434100\n",
      "1        0.565541\n",
      "None     0.000359\n",
      "Name: shortness_of_breath, dtype: float64 \n",
      "\n",
      "0       99.133937\n",
      "1        0.865705\n",
      "None     0.000359\n",
      "Name: head_ache, dtype: float64 \n",
      "\n",
      "negative    93.322168\n",
      "positive     5.282089\n",
      "other        1.395742\n",
      "Name: corona_result, dtype: float64 \n",
      "\n",
      "None    45.659284\n",
      "No      45.079398\n",
      "Yes      9.261318\n",
      "Name: age_60_and_above, dtype: float64 \n",
      "\n",
      "female    46.677043\n",
      "male      46.307307\n",
      "None       7.015650\n",
      "Name: gender, dtype: float64 \n",
      "\n",
      "Other                     87.051368\n",
      "Abroad                     9.133291\n",
      "Contact with confirmed     3.815340\n",
      "Name: test_indication, dtype: float64 \n",
      "\n"
     ]
    }
   ],
   "source": [
    "# checking for unique data points for each features\n",
    "\n",
    "for i in range(1, 10):\n",
    "\n",
    "    print(df.iloc[:,i].value_counts()/df.iloc[:,i].count()*100, '\\n')"
   ]
  },
  {
   "cell_type": "code",
   "execution_count": 9,
   "metadata": {
    "scrolled": true
   },
   "outputs": [],
   "source": [
    "#filtered out irrelevant health conditions & symptoms i.e. None, other & etc.\n",
    "\n",
    "filtered_df = df[ (df['cough'] != 'None') & (df['fever'] != 'None') & (df['sore_throat'] != 'None') &\n",
    "                 (df['shortness_of_breath'] != 'None') & (df['head_ache'] != 'None') & \n",
    "                 (df['corona_result'] != 'other') & (df['gender'] != 'None')]"
   ]
  },
  {
   "cell_type": "markdown",
   "metadata": {},
   "source": [
    "### Step 3: Data Preprocessing & Feature Engineering"
   ]
  },
  {
   "cell_type": "code",
   "execution_count": 10,
   "metadata": {
    "scrolled": true
   },
   "outputs": [
    {
     "name": "stderr",
     "output_type": "stream",
     "text": [
      "D:\\Softwares\\Anaconda3\\lib\\site-packages\\pandas\\core\\frame.py:2963: SettingWithCopyWarning: \n",
      "A value is trying to be set on a copy of a slice from a DataFrame.\n",
      "Try using .loc[row_indexer,col_indexer] = value instead\n",
      "\n",
      "See the caveats in the documentation: https://pandas.pydata.org/pandas-docs/stable/user_guide/indexing.html#returning-a-view-versus-a-copy\n",
      "  self[k1] = value[k2]\n"
     ]
    }
   ],
   "source": [
    "# pre-processing - converting data types to compatible formats i.e. strings to datetime and integer\n",
    "\n",
    "filtered_df[[\"test_date\"]] = filtered_df[[\"test_date\"]].apply(pd.to_datetime)\n",
    "filtered_df[['cough', 'fever', 'sore_throat', 'shortness_of_breath', 'head_ache']] = filtered_df[['cough', 'fever', 'sore_throat', 'shortness_of_breath', 'head_ache']].astype(int)"
   ]
  },
  {
   "cell_type": "code",
   "execution_count": 11,
   "metadata": {
    "scrolled": true
   },
   "outputs": [
    {
     "name": "stdout",
     "output_type": "stream",
     "text": [
      "0    84.725503\n",
      "1    15.274497\n",
      "Name: cough, dtype: float64 \n",
      "\n",
      "0    92.23446\n",
      "1     7.76554\n",
      "Name: fever, dtype: float64 \n",
      "\n",
      "0    99.414866\n",
      "1     0.585134\n",
      "Name: sore_throat, dtype: float64 \n",
      "\n",
      "0    99.578359\n",
      "1     0.421641\n",
      "Name: shortness_of_breath, dtype: float64 \n",
      "\n",
      "0    99.177449\n",
      "1     0.822551\n",
      "Name: head_ache, dtype: float64 \n",
      "\n",
      "negative    94.707198\n",
      "positive     5.292802\n",
      "Name: corona_result, dtype: float64 \n",
      "\n",
      "None    46.691021\n",
      "No      44.038753\n",
      "Yes      9.270225\n",
      "Name: age_60_and_above, dtype: float64 \n",
      "\n",
      "female    50.226466\n",
      "male      49.773534\n",
      "Name: gender, dtype: float64 \n",
      "\n",
      "Other                     87.130967\n",
      "Abroad                     9.116902\n",
      "Contact with confirmed     3.752132\n",
      "Name: test_indication, dtype: float64 \n",
      "\n"
     ]
    }
   ],
   "source": [
    "for i in range(1, 10):\n",
    "\n",
    "    print(filtered_df.iloc[:,i].value_counts() / filtered_df.iloc[:,i].count()*100, '\\n')"
   ]
  },
  {
   "cell_type": "code",
   "execution_count": 12,
   "metadata": {},
   "outputs": [],
   "source": [
    "# dropping column age_60_and_above due to almost half of the data are irrelevant i.e. None, no specified age for the individual\n",
    "\n",
    "filtered_df = filtered_df.drop(['age_60_and_above'], axis=1)\n",
    "\n",
    "# drop date column\n",
    "\n",
    "filtered_df = filtered_df.drop(['test_date'], axis=1)"
   ]
  },
  {
   "cell_type": "code",
   "execution_count": 13,
   "metadata": {},
   "outputs": [],
   "source": [
    "# encoding categorical variables for modeling purposes\n",
    "\n",
    "from sklearn.preprocessing import LabelEncoder\n",
    "\n",
    "enc = LabelEncoder()\n",
    "\n",
    "enc_df = filtered_df.copy()\n",
    "\n",
    "enc_df['corona_result'] = enc.fit_transform(enc_df['corona_result'])\n",
    "enc_df['gender'] = enc.fit_transform(enc_df['gender'])\n",
    "enc_df['test_indication'] = enc.fit_transform(enc_df['test_indication'])"
   ]
  },
  {
   "cell_type": "code",
   "execution_count": 14,
   "metadata": {},
   "outputs": [
    {
     "name": "stdout",
     "output_type": "stream",
     "text": [
      "<class 'pandas.core.frame.DataFrame'>\n",
      "Int64Index: 255668 entries, 0 to 265120\n",
      "Data columns (total 8 columns):\n",
      " #   Column               Non-Null Count   Dtype\n",
      "---  ------               --------------   -----\n",
      " 0   cough                255668 non-null  int32\n",
      " 1   fever                255668 non-null  int32\n",
      " 2   sore_throat          255668 non-null  int32\n",
      " 3   shortness_of_breath  255668 non-null  int32\n",
      " 4   head_ache            255668 non-null  int32\n",
      " 5   corona_result        255668 non-null  int32\n",
      " 6   gender               255668 non-null  int32\n",
      " 7   test_indication      255668 non-null  int32\n",
      "dtypes: int32(8)\n",
      "memory usage: 9.8 MB\n"
     ]
    }
   ],
   "source": [
    "enc_df.info()"
   ]
  },
  {
   "cell_type": "markdown",
   "metadata": {},
   "source": [
    "### Step 4: Basic EDA & Visualization"
   ]
  },
  {
   "cell_type": "code",
   "execution_count": 15,
   "metadata": {},
   "outputs": [
    {
     "data": {
      "image/png": "[encoded data removed]",
      "text/plain": [
       "<Figure size 1152x1152 with 9 Axes>"
      ]
     },
     "metadata": {},
     "output_type": "display_data"
    }
   ],
   "source": [
    "# plotting charts to visualize generic information of the features and target variable\n",
    "\n",
    "plt.style.use('ggplot')\n",
    "\n",
    "fig, ax = plt.subplots(3, 3, figsize=(16,16))\n",
    "sns.countplot('cough', data=enc_df, ax=ax[0][0])\n",
    "sns.countplot('fever', data=enc_df, ax=ax[0][1])\n",
    "sns.countplot('sore_throat', data=enc_df, ax=ax[0][2])\n",
    "sns.countplot('shortness_of_breath', data=enc_df, ax=ax[1][0])\n",
    "sns.countplot('head_ache', data=enc_df, ax=ax[1][1])\n",
    "sns.countplot('corona_result', data=enc_df, ax=ax[1][2])\n",
    "sns.countplot('gender', data=enc_df, ax=ax[2][1])\n",
    "sns.countplot('test_indication', data=enc_df, ax=ax[2][2])\n",
    "plt.tight_layout()"
   ]
  },
  {
   "cell_type": "code",
   "execution_count": 16,
   "metadata": {
    "scrolled": true
   },
   "outputs": [
    {
     "data": {
      "image/png": "[encoded data removed]",
      "text/plain": [
       "<Figure size 1152x1152 with 9 Axes>"
      ]
     },
     "metadata": {},
     "output_type": "display_data"
    }
   ],
   "source": [
    "# plotting charts to visualize relationship between features and target variables\n",
    "\n",
    "fig, ax = plt.subplots(3, 3, figsize=(16,16))\n",
    "sns.countplot('cough', data=enc_df, ax=ax[0][0], hue='corona_result')\n",
    "sns.countplot('fever', data=enc_df, ax=ax[0][1], hue='corona_result')\n",
    "sns.countplot('sore_throat', data=enc_df, ax=ax[0][2], hue='corona_result')\n",
    "sns.countplot('shortness_of_breath', data=enc_df, ax=ax[1][0], hue='corona_result')\n",
    "sns.countplot('head_ache', data=enc_df, ax=ax[1][1], hue='corona_result')\n",
    "sns.countplot('gender', data=enc_df, ax=ax[2][0], hue='corona_result')\n",
    "sns.countplot('test_indication', data=enc_df, ax=ax[2][1], hue='corona_result')\n",
    "plt.tight_layout()"
   ]
  },
  {
   "cell_type": "code",
   "execution_count": 17,
   "metadata": {},
   "outputs": [
    {
     "data": {
      "text/html": [
       "<style  type=\"text/css\" >\n",
       "    #T_de37c71a_72b9_11ec_acc8_fcaa149d123frow0_col0 {\n",
       "            background-color:  #b40426;\n",
       "            color:  #f1f1f1;\n",
       "        }    #T_de37c71a_72b9_11ec_acc8_fcaa149d123frow0_col1 {\n",
       "            background-color:  #f6bda2;\n",
       "            color:  #000000;\n",
       "        }    #T_de37c71a_72b9_11ec_acc8_fcaa149d123frow0_col2 {\n",
       "            background-color:  #cad8ef;\n",
       "            color:  #000000;\n",
       "        }    #T_de37c71a_72b9_11ec_acc8_fcaa149d123frow0_col3 {\n",
       "            background-color:  #c7d7f0;\n",
       "            color:  #000000;\n",
       "        }    #T_de37c71a_72b9_11ec_acc8_fcaa149d123frow0_col4 {\n",
       "            background-color:  #cbd8ee;\n",
       "            color:  #000000;\n",
       "        }    #T_de37c71a_72b9_11ec_acc8_fcaa149d123frow0_col5 {\n",
       "            background-color:  #d9dce1;\n",
       "            color:  #000000;\n",
       "        }    #T_de37c71a_72b9_11ec_acc8_fcaa149d123frow0_col6 {\n",
       "            background-color:  #bad0f8;\n",
       "            color:  #000000;\n",
       "        }    #T_de37c71a_72b9_11ec_acc8_fcaa149d123frow0_col7 {\n",
       "            background-color:  #3b4cc0;\n",
       "            color:  #f1f1f1;\n",
       "        }    #T_de37c71a_72b9_11ec_acc8_fcaa149d123frow1_col0 {\n",
       "            background-color:  #f6bda2;\n",
       "            color:  #000000;\n",
       "        }    #T_de37c71a_72b9_11ec_acc8_fcaa149d123frow1_col1 {\n",
       "            background-color:  #b40426;\n",
       "            color:  #f1f1f1;\n",
       "        }    #T_de37c71a_72b9_11ec_acc8_fcaa149d123frow1_col2 {\n",
       "            background-color:  #ccd9ed;\n",
       "            color:  #000000;\n",
       "        }    #T_de37c71a_72b9_11ec_acc8_fcaa149d123frow1_col3 {\n",
       "            background-color:  #ccd9ed;\n",
       "            color:  #000000;\n",
       "        }    #T_de37c71a_72b9_11ec_acc8_fcaa149d123frow1_col4 {\n",
       "            background-color:  #d4dbe6;\n",
       "            color:  #000000;\n",
       "        }    #T_de37c71a_72b9_11ec_acc8_fcaa149d123frow1_col5 {\n",
       "            background-color:  #e4d9d2;\n",
       "            color:  #000000;\n",
       "        }    #T_de37c71a_72b9_11ec_acc8_fcaa149d123frow1_col6 {\n",
       "            background-color:  #bbd1f8;\n",
       "            color:  #000000;\n",
       "        }    #T_de37c71a_72b9_11ec_acc8_fcaa149d123frow1_col7 {\n",
       "            background-color:  #6788ee;\n",
       "            color:  #000000;\n",
       "        }    #T_de37c71a_72b9_11ec_acc8_fcaa149d123frow2_col0 {\n",
       "            background-color:  #cad8ef;\n",
       "            color:  #000000;\n",
       "        }    #T_de37c71a_72b9_11ec_acc8_fcaa149d123frow2_col1 {\n",
       "            background-color:  #ccd9ed;\n",
       "            color:  #000000;\n",
       "        }    #T_de37c71a_72b9_11ec_acc8_fcaa149d123frow2_col2 {\n",
       "            background-color:  #b40426;\n",
       "            color:  #f1f1f1;\n",
       "        }    #T_de37c71a_72b9_11ec_acc8_fcaa149d123frow2_col3 {\n",
       "            background-color:  #dbdcde;\n",
       "            color:  #000000;\n",
       "        }    #T_de37c71a_72b9_11ec_acc8_fcaa149d123frow2_col4 {\n",
       "            background-color:  #efcfbf;\n",
       "            color:  #000000;\n",
       "        }    #T_de37c71a_72b9_11ec_acc8_fcaa149d123frow2_col5 {\n",
       "            background-color:  #e9d5cb;\n",
       "            color:  #000000;\n",
       "        }    #T_de37c71a_72b9_11ec_acc8_fcaa149d123frow2_col6 {\n",
       "            background-color:  #b2ccfb;\n",
       "            color:  #000000;\n",
       "        }    #T_de37c71a_72b9_11ec_acc8_fcaa149d123frow2_col7 {\n",
       "            background-color:  #a5c3fe;\n",
       "            color:  #000000;\n",
       "        }    #T_de37c71a_72b9_11ec_acc8_fcaa149d123frow3_col0 {\n",
       "            background-color:  #c7d7f0;\n",
       "            color:  #000000;\n",
       "        }    #T_de37c71a_72b9_11ec_acc8_fcaa149d123frow3_col1 {\n",
       "            background-color:  #ccd9ed;\n",
       "            color:  #000000;\n",
       "        }    #T_de37c71a_72b9_11ec_acc8_fcaa149d123frow3_col2 {\n",
       "            background-color:  #dbdcde;\n",
       "            color:  #000000;\n",
       "        }    #T_de37c71a_72b9_11ec_acc8_fcaa149d123frow3_col3 {\n",
       "            background-color:  #b40426;\n",
       "            color:  #f1f1f1;\n",
       "        }    #T_de37c71a_72b9_11ec_acc8_fcaa149d123frow3_col4 {\n",
       "            background-color:  #dedcdb;\n",
       "            color:  #000000;\n",
       "        }    #T_de37c71a_72b9_11ec_acc8_fcaa149d123frow3_col5 {\n",
       "            background-color:  #e2dad5;\n",
       "            color:  #000000;\n",
       "        }    #T_de37c71a_72b9_11ec_acc8_fcaa149d123frow3_col6 {\n",
       "            background-color:  #b5cdfa;\n",
       "            color:  #000000;\n",
       "        }    #T_de37c71a_72b9_11ec_acc8_fcaa149d123frow3_col7 {\n",
       "            background-color:  #a7c5fe;\n",
       "            color:  #000000;\n",
       "        }    #T_de37c71a_72b9_11ec_acc8_fcaa149d123frow4_col0 {\n",
       "            background-color:  #cbd8ee;\n",
       "            color:  #000000;\n",
       "        }    #T_de37c71a_72b9_11ec_acc8_fcaa149d123frow4_col1 {\n",
       "            background-color:  #d4dbe6;\n",
       "            color:  #000000;\n",
       "        }    #T_de37c71a_72b9_11ec_acc8_fcaa149d123frow4_col2 {\n",
       "            background-color:  #efcfbf;\n",
       "            color:  #000000;\n",
       "        }    #T_de37c71a_72b9_11ec_acc8_fcaa149d123frow4_col3 {\n",
       "            background-color:  #dedcdb;\n",
       "            color:  #000000;\n",
       "        }    #T_de37c71a_72b9_11ec_acc8_fcaa149d123frow4_col4 {\n",
       "            background-color:  #b40426;\n",
       "            color:  #f1f1f1;\n",
       "        }    #T_de37c71a_72b9_11ec_acc8_fcaa149d123frow4_col5 {\n",
       "            background-color:  #f1ccb8;\n",
       "            color:  #000000;\n",
       "        }    #T_de37c71a_72b9_11ec_acc8_fcaa149d123frow4_col6 {\n",
       "            background-color:  #b5cdfa;\n",
       "            color:  #000000;\n",
       "        }    #T_de37c71a_72b9_11ec_acc8_fcaa149d123frow4_col7 {\n",
       "            background-color:  #a2c1ff;\n",
       "            color:  #000000;\n",
       "        }    #T_de37c71a_72b9_11ec_acc8_fcaa149d123frow5_col0 {\n",
       "            background-color:  #d9dce1;\n",
       "            color:  #000000;\n",
       "        }    #T_de37c71a_72b9_11ec_acc8_fcaa149d123frow5_col1 {\n",
       "            background-color:  #e4d9d2;\n",
       "            color:  #000000;\n",
       "        }    #T_de37c71a_72b9_11ec_acc8_fcaa149d123frow5_col2 {\n",
       "            background-color:  #e9d5cb;\n",
       "            color:  #000000;\n",
       "        }    #T_de37c71a_72b9_11ec_acc8_fcaa149d123frow5_col3 {\n",
       "            background-color:  #e2dad5;\n",
       "            color:  #000000;\n",
       "        }    #T_de37c71a_72b9_11ec_acc8_fcaa149d123frow5_col4 {\n",
       "            background-color:  #f1ccb8;\n",
       "            color:  #000000;\n",
       "        }    #T_de37c71a_72b9_11ec_acc8_fcaa149d123frow5_col5 {\n",
       "            background-color:  #b40426;\n",
       "            color:  #f1f1f1;\n",
       "        }    #T_de37c71a_72b9_11ec_acc8_fcaa149d123frow5_col6 {\n",
       "            background-color:  #bad0f8;\n",
       "            color:  #000000;\n",
       "        }    #T_de37c71a_72b9_11ec_acc8_fcaa149d123frow5_col7 {\n",
       "            background-color:  #88abfd;\n",
       "            color:  #000000;\n",
       "        }    #T_de37c71a_72b9_11ec_acc8_fcaa149d123frow6_col0 {\n",
       "            background-color:  #bad0f8;\n",
       "            color:  #000000;\n",
       "        }    #T_de37c71a_72b9_11ec_acc8_fcaa149d123frow6_col1 {\n",
       "            background-color:  #bbd1f8;\n",
       "            color:  #000000;\n",
       "        }    #T_de37c71a_72b9_11ec_acc8_fcaa149d123frow6_col2 {\n",
       "            background-color:  #b2ccfb;\n",
       "            color:  #000000;\n",
       "        }    #T_de37c71a_72b9_11ec_acc8_fcaa149d123frow6_col3 {\n",
       "            background-color:  #b5cdfa;\n",
       "            color:  #000000;\n",
       "        }    #T_de37c71a_72b9_11ec_acc8_fcaa149d123frow6_col4 {\n",
       "            background-color:  #b5cdfa;\n",
       "            color:  #000000;\n",
       "        }    #T_de37c71a_72b9_11ec_acc8_fcaa149d123frow6_col5 {\n",
       "            background-color:  #bad0f8;\n",
       "            color:  #000000;\n",
       "        }    #T_de37c71a_72b9_11ec_acc8_fcaa149d123frow6_col6 {\n",
       "            background-color:  #b40426;\n",
       "            color:  #f1f1f1;\n",
       "        }    #T_de37c71a_72b9_11ec_acc8_fcaa149d123frow6_col7 {\n",
       "            background-color:  #adc9fd;\n",
       "            color:  #000000;\n",
       "        }    #T_de37c71a_72b9_11ec_acc8_fcaa149d123frow7_col0 {\n",
       "            background-color:  #3b4cc0;\n",
       "            color:  #f1f1f1;\n",
       "        }    #T_de37c71a_72b9_11ec_acc8_fcaa149d123frow7_col1 {\n",
       "            background-color:  #6788ee;\n",
       "            color:  #000000;\n",
       "        }    #T_de37c71a_72b9_11ec_acc8_fcaa149d123frow7_col2 {\n",
       "            background-color:  #a5c3fe;\n",
       "            color:  #000000;\n",
       "        }    #T_de37c71a_72b9_11ec_acc8_fcaa149d123frow7_col3 {\n",
       "            background-color:  #a7c5fe;\n",
       "            color:  #000000;\n",
       "        }    #T_de37c71a_72b9_11ec_acc8_fcaa149d123frow7_col4 {\n",
       "            background-color:  #a2c1ff;\n",
       "            color:  #000000;\n",
       "        }    #T_de37c71a_72b9_11ec_acc8_fcaa149d123frow7_col5 {\n",
       "            background-color:  #88abfd;\n",
       "            color:  #000000;\n",
       "        }    #T_de37c71a_72b9_11ec_acc8_fcaa149d123frow7_col6 {\n",
       "            background-color:  #adc9fd;\n",
       "            color:  #000000;\n",
       "        }    #T_de37c71a_72b9_11ec_acc8_fcaa149d123frow7_col7 {\n",
       "            background-color:  #b40426;\n",
       "            color:  #f1f1f1;\n",
       "        }</style><table id=\"T_de37c71a_72b9_11ec_acc8_fcaa149d123f\" ><thead>    <tr>        <th class=\"blank level0\" ></th>        <th class=\"col_heading level0 col0\" >cough</th>        <th class=\"col_heading level0 col1\" >fever</th>        <th class=\"col_heading level0 col2\" >sore_throat</th>        <th class=\"col_heading level0 col3\" >shortness_of_breath</th>        <th class=\"col_heading level0 col4\" >head_ache</th>        <th class=\"col_heading level0 col5\" >corona_result</th>        <th class=\"col_heading level0 col6\" >gender</th>        <th class=\"col_heading level0 col7\" >test_indication</th>    </tr></thead><tbody>\n",
       "                <tr>\n",
       "                        <th id=\"T_de37c71a_72b9_11ec_acc8_fcaa149d123flevel0_row0\" class=\"row_heading level0 row0\" >cough</th>\n",
       "                        <td id=\"T_de37c71a_72b9_11ec_acc8_fcaa149d123frow0_col0\" class=\"data row0 col0\" >1.000000</td>\n",
       "                        <td id=\"T_de37c71a_72b9_11ec_acc8_fcaa149d123frow0_col1\" class=\"data row0 col1\" >0.451896</td>\n",
       "                        <td id=\"T_de37c71a_72b9_11ec_acc8_fcaa149d123frow0_col2\" class=\"data row0 col2\" >0.105560</td>\n",
       "                        <td id=\"T_de37c71a_72b9_11ec_acc8_fcaa149d123frow0_col3\" class=\"data row0 col3\" >0.097546</td>\n",
       "                        <td id=\"T_de37c71a_72b9_11ec_acc8_fcaa149d123frow0_col4\" class=\"data row0 col4\" >0.114091</td>\n",
       "                        <td id=\"T_de37c71a_72b9_11ec_acc8_fcaa149d123frow0_col5\" class=\"data row0 col5\" >0.194106</td>\n",
       "                        <td id=\"T_de37c71a_72b9_11ec_acc8_fcaa149d123frow0_col6\" class=\"data row0 col6\" >0.030953</td>\n",
       "                        <td id=\"T_de37c71a_72b9_11ec_acc8_fcaa149d123frow0_col7\" class=\"data row0 col7\" >-0.569529</td>\n",
       "            </tr>\n",
       "            <tr>\n",
       "                        <th id=\"T_de37c71a_72b9_11ec_acc8_fcaa149d123flevel0_row1\" class=\"row_heading level0 row1\" >fever</th>\n",
       "                        <td id=\"T_de37c71a_72b9_11ec_acc8_fcaa149d123frow1_col0\" class=\"data row1 col0\" >0.451896</td>\n",
       "                        <td id=\"T_de37c71a_72b9_11ec_acc8_fcaa149d123frow1_col1\" class=\"data row1 col1\" >1.000000</td>\n",
       "                        <td id=\"T_de37c71a_72b9_11ec_acc8_fcaa149d123frow1_col2\" class=\"data row1 col2\" >0.118579</td>\n",
       "                        <td id=\"T_de37c71a_72b9_11ec_acc8_fcaa149d123frow1_col3\" class=\"data row1 col3\" >0.118703</td>\n",
       "                        <td id=\"T_de37c71a_72b9_11ec_acc8_fcaa149d123frow1_col4\" class=\"data row1 col4\" >0.164186</td>\n",
       "                        <td id=\"T_de37c71a_72b9_11ec_acc8_fcaa149d123frow1_col5\" class=\"data row1 col5\" >0.260399</td>\n",
       "                        <td id=\"T_de37c71a_72b9_11ec_acc8_fcaa149d123frow1_col6\" class=\"data row1 col6\" >0.035893</td>\n",
       "                        <td id=\"T_de37c71a_72b9_11ec_acc8_fcaa149d123frow1_col7\" class=\"data row1 col7\" >-0.343291</td>\n",
       "            </tr>\n",
       "            <tr>\n",
       "                        <th id=\"T_de37c71a_72b9_11ec_acc8_fcaa149d123flevel0_row2\" class=\"row_heading level0 row2\" >sore_throat</th>\n",
       "                        <td id=\"T_de37c71a_72b9_11ec_acc8_fcaa149d123frow2_col0\" class=\"data row2 col0\" >0.105560</td>\n",
       "                        <td id=\"T_de37c71a_72b9_11ec_acc8_fcaa149d123frow2_col1\" class=\"data row2 col1\" >0.118579</td>\n",
       "                        <td id=\"T_de37c71a_72b9_11ec_acc8_fcaa149d123frow2_col2\" class=\"data row2 col2\" >1.000000</td>\n",
       "                        <td id=\"T_de37c71a_72b9_11ec_acc8_fcaa149d123frow2_col3\" class=\"data row2 col3\" >0.204739</td>\n",
       "                        <td id=\"T_de37c71a_72b9_11ec_acc8_fcaa149d123frow2_col4\" class=\"data row2 col4\" >0.339929</td>\n",
       "                        <td id=\"T_de37c71a_72b9_11ec_acc8_fcaa149d123frow2_col5\" class=\"data row2 col5\" >0.293147</td>\n",
       "                        <td id=\"T_de37c71a_72b9_11ec_acc8_fcaa149d123frow2_col6\" class=\"data row2 col6\" >-0.005909</td>\n",
       "                        <td id=\"T_de37c71a_72b9_11ec_acc8_fcaa149d123frow2_col7\" class=\"data row2 col7\" >-0.072510</td>\n",
       "            </tr>\n",
       "            <tr>\n",
       "                        <th id=\"T_de37c71a_72b9_11ec_acc8_fcaa149d123flevel0_row3\" class=\"row_heading level0 row3\" >shortness_of_breath</th>\n",
       "                        <td id=\"T_de37c71a_72b9_11ec_acc8_fcaa149d123frow3_col0\" class=\"data row3 col0\" >0.097546</td>\n",
       "                        <td id=\"T_de37c71a_72b9_11ec_acc8_fcaa149d123frow3_col1\" class=\"data row3 col1\" >0.118703</td>\n",
       "                        <td id=\"T_de37c71a_72b9_11ec_acc8_fcaa149d123frow3_col2\" class=\"data row3 col2\" >0.204739</td>\n",
       "                        <td id=\"T_de37c71a_72b9_11ec_acc8_fcaa149d123frow3_col3\" class=\"data row3 col3\" >1.000000</td>\n",
       "                        <td id=\"T_de37c71a_72b9_11ec_acc8_fcaa149d123frow3_col4\" class=\"data row3 col4\" >0.222638</td>\n",
       "                        <td id=\"T_de37c71a_72b9_11ec_acc8_fcaa149d123frow3_col5\" class=\"data row3 col5\" >0.248565</td>\n",
       "                        <td id=\"T_de37c71a_72b9_11ec_acc8_fcaa149d123frow3_col6\" class=\"data row3 col6\" >0.004520</td>\n",
       "                        <td id=\"T_de37c71a_72b9_11ec_acc8_fcaa149d123frow3_col7\" class=\"data row3 col7\" >-0.056723</td>\n",
       "            </tr>\n",
       "            <tr>\n",
       "                        <th id=\"T_de37c71a_72b9_11ec_acc8_fcaa149d123flevel0_row4\" class=\"row_heading level0 row4\" >head_ache</th>\n",
       "                        <td id=\"T_de37c71a_72b9_11ec_acc8_fcaa149d123frow4_col0\" class=\"data row4 col0\" >0.114091</td>\n",
       "                        <td id=\"T_de37c71a_72b9_11ec_acc8_fcaa149d123frow4_col1\" class=\"data row4 col1\" >0.164186</td>\n",
       "                        <td id=\"T_de37c71a_72b9_11ec_acc8_fcaa149d123frow4_col2\" class=\"data row4 col2\" >0.339929</td>\n",
       "                        <td id=\"T_de37c71a_72b9_11ec_acc8_fcaa149d123frow4_col3\" class=\"data row4 col3\" >0.222638</td>\n",
       "                        <td id=\"T_de37c71a_72b9_11ec_acc8_fcaa149d123frow4_col4\" class=\"data row4 col4\" >1.000000</td>\n",
       "                        <td id=\"T_de37c71a_72b9_11ec_acc8_fcaa149d123frow4_col5\" class=\"data row4 col5\" >0.366278</td>\n",
       "                        <td id=\"T_de37c71a_72b9_11ec_acc8_fcaa149d123frow4_col6\" class=\"data row4 col6\" >0.002188</td>\n",
       "                        <td id=\"T_de37c71a_72b9_11ec_acc8_fcaa149d123frow4_col7\" class=\"data row4 col7\" >-0.083327</td>\n",
       "            </tr>\n",
       "            <tr>\n",
       "                        <th id=\"T_de37c71a_72b9_11ec_acc8_fcaa149d123flevel0_row5\" class=\"row_heading level0 row5\" >corona_result</th>\n",
       "                        <td id=\"T_de37c71a_72b9_11ec_acc8_fcaa149d123frow5_col0\" class=\"data row5 col0\" >0.194106</td>\n",
       "                        <td id=\"T_de37c71a_72b9_11ec_acc8_fcaa149d123frow5_col1\" class=\"data row5 col1\" >0.260399</td>\n",
       "                        <td id=\"T_de37c71a_72b9_11ec_acc8_fcaa149d123frow5_col2\" class=\"data row5 col2\" >0.293147</td>\n",
       "                        <td id=\"T_de37c71a_72b9_11ec_acc8_fcaa149d123frow5_col3\" class=\"data row5 col3\" >0.248565</td>\n",
       "                        <td id=\"T_de37c71a_72b9_11ec_acc8_fcaa149d123frow5_col4\" class=\"data row5 col4\" >0.366278</td>\n",
       "                        <td id=\"T_de37c71a_72b9_11ec_acc8_fcaa149d123frow5_col5\" class=\"data row5 col5\" >1.000000</td>\n",
       "                        <td id=\"T_de37c71a_72b9_11ec_acc8_fcaa149d123frow5_col6\" class=\"data row5 col6\" >0.026961</td>\n",
       "                        <td id=\"T_de37c71a_72b9_11ec_acc8_fcaa149d123frow5_col7\" class=\"data row5 col7\" >-0.197408</td>\n",
       "            </tr>\n",
       "            <tr>\n",
       "                        <th id=\"T_de37c71a_72b9_11ec_acc8_fcaa149d123flevel0_row6\" class=\"row_heading level0 row6\" >gender</th>\n",
       "                        <td id=\"T_de37c71a_72b9_11ec_acc8_fcaa149d123frow6_col0\" class=\"data row6 col0\" >0.030953</td>\n",
       "                        <td id=\"T_de37c71a_72b9_11ec_acc8_fcaa149d123frow6_col1\" class=\"data row6 col1\" >0.035893</td>\n",
       "                        <td id=\"T_de37c71a_72b9_11ec_acc8_fcaa149d123frow6_col2\" class=\"data row6 col2\" >-0.005909</td>\n",
       "                        <td id=\"T_de37c71a_72b9_11ec_acc8_fcaa149d123frow6_col3\" class=\"data row6 col3\" >0.004520</td>\n",
       "                        <td id=\"T_de37c71a_72b9_11ec_acc8_fcaa149d123frow6_col4\" class=\"data row6 col4\" >0.002188</td>\n",
       "                        <td id=\"T_de37c71a_72b9_11ec_acc8_fcaa149d123frow6_col5\" class=\"data row6 col5\" >0.026961</td>\n",
       "                        <td id=\"T_de37c71a_72b9_11ec_acc8_fcaa149d123frow6_col6\" class=\"data row6 col6\" >1.000000</td>\n",
       "                        <td id=\"T_de37c71a_72b9_11ec_acc8_fcaa149d123frow6_col7\" class=\"data row6 col7\" >-0.030257</td>\n",
       "            </tr>\n",
       "            <tr>\n",
       "                        <th id=\"T_de37c71a_72b9_11ec_acc8_fcaa149d123flevel0_row7\" class=\"row_heading level0 row7\" >test_indication</th>\n",
       "                        <td id=\"T_de37c71a_72b9_11ec_acc8_fcaa149d123frow7_col0\" class=\"data row7 col0\" >-0.569529</td>\n",
       "                        <td id=\"T_de37c71a_72b9_11ec_acc8_fcaa149d123frow7_col1\" class=\"data row7 col1\" >-0.343291</td>\n",
       "                        <td id=\"T_de37c71a_72b9_11ec_acc8_fcaa149d123frow7_col2\" class=\"data row7 col2\" >-0.072510</td>\n",
       "                        <td id=\"T_de37c71a_72b9_11ec_acc8_fcaa149d123frow7_col3\" class=\"data row7 col3\" >-0.056723</td>\n",
       "                        <td id=\"T_de37c71a_72b9_11ec_acc8_fcaa149d123frow7_col4\" class=\"data row7 col4\" >-0.083327</td>\n",
       "                        <td id=\"T_de37c71a_72b9_11ec_acc8_fcaa149d123frow7_col5\" class=\"data row7 col5\" >-0.197408</td>\n",
       "                        <td id=\"T_de37c71a_72b9_11ec_acc8_fcaa149d123frow7_col6\" class=\"data row7 col6\" >-0.030257</td>\n",
       "                        <td id=\"T_de37c71a_72b9_11ec_acc8_fcaa149d123frow7_col7\" class=\"data row7 col7\" >1.000000</td>\n",
       "            </tr>\n",
       "    </tbody></table>"
      ],
      "text/plain": [
       "<pandas.io.formats.style.Styler at 0x15a38492190>"
      ]
     },
     "execution_count": 17,
     "metadata": {},
     "output_type": "execute_result"
    }
   ],
   "source": [
    "#feature correlation - observing relationship between different features and target variable (COVID-19 result)\n",
    "\n",
    "corr = enc_df.corr()\n",
    "corr.style.background_gradient(cmap='coolwarm',axis=None)"
   ]
  },
  {
   "cell_type": "markdown",
   "metadata": {},
   "source": [
    "As we can observe in the correlation heatmap generated above, there are few parameters that have low correlation level with the target variable. Due to time constraint, I will not be exploring the affects of certain features on the prediction and only focusing on tuning the model parameters to improve its performance."
   ]
  },
  {
   "cell_type": "markdown",
   "metadata": {},
   "source": [
    "### Step 5: Modeling"
   ]
  },
  {
   "cell_type": "code",
   "execution_count": 18,
   "metadata": {},
   "outputs": [],
   "source": [
    "# define the target and feature variables\n",
    "\n",
    "X = enc_df.loc[:, enc_df.columns != 'corona_result']\n",
    "y = enc_df.loc[:, 'corona_result']"
   ]
  },
  {
   "cell_type": "code",
   "execution_count": 19,
   "metadata": {
    "scrolled": false
   },
   "outputs": [
    {
     "data": {
      "text/html": [
       "<div>\n",
       "<style scoped>\n",
       "    .dataframe tbody tr th:only-of-type {\n",
       "        vertical-align: middle;\n",
       "    }\n",
       "\n",
       "    .dataframe tbody tr th {\n",
       "        vertical-align: top;\n",
       "    }\n",
       "\n",
       "    .dataframe thead th {\n",
       "        text-align: right;\n",
       "    }\n",
       "</style>\n",
       "<table border=\"1\" class=\"dataframe\">\n",
       "  <thead>\n",
       "    <tr style=\"text-align: right;\">\n",
       "      <th></th>\n",
       "      <th>cough</th>\n",
       "      <th>fever</th>\n",
       "      <th>sore_throat</th>\n",
       "      <th>shortness_of_breath</th>\n",
       "      <th>head_ache</th>\n",
       "      <th>gender</th>\n",
       "      <th>test_indication</th>\n",
       "    </tr>\n",
       "  </thead>\n",
       "  <tbody>\n",
       "    <tr>\n",
       "      <th>0</th>\n",
       "      <td>0</td>\n",
       "      <td>0</td>\n",
       "      <td>0</td>\n",
       "      <td>0</td>\n",
       "      <td>0</td>\n",
       "      <td>0</td>\n",
       "      <td>2</td>\n",
       "    </tr>\n",
       "    <tr>\n",
       "      <th>1</th>\n",
       "      <td>1</td>\n",
       "      <td>0</td>\n",
       "      <td>0</td>\n",
       "      <td>0</td>\n",
       "      <td>0</td>\n",
       "      <td>0</td>\n",
       "      <td>2</td>\n",
       "    </tr>\n",
       "    <tr>\n",
       "      <th>2</th>\n",
       "      <td>0</td>\n",
       "      <td>1</td>\n",
       "      <td>0</td>\n",
       "      <td>0</td>\n",
       "      <td>0</td>\n",
       "      <td>1</td>\n",
       "      <td>2</td>\n",
       "    </tr>\n",
       "    <tr>\n",
       "      <th>3</th>\n",
       "      <td>1</td>\n",
       "      <td>0</td>\n",
       "      <td>0</td>\n",
       "      <td>0</td>\n",
       "      <td>0</td>\n",
       "      <td>0</td>\n",
       "      <td>2</td>\n",
       "    </tr>\n",
       "    <tr>\n",
       "      <th>4</th>\n",
       "      <td>1</td>\n",
       "      <td>0</td>\n",
       "      <td>0</td>\n",
       "      <td>0</td>\n",
       "      <td>0</td>\n",
       "      <td>1</td>\n",
       "      <td>2</td>\n",
       "    </tr>\n",
       "  </tbody>\n",
       "</table>\n",
       "</div>"
      ],
      "text/plain": [
       "   cough  fever  sore_throat  shortness_of_breath  head_ache  gender  \\\n",
       "0      0      0            0                    0          0       0   \n",
       "1      1      0            0                    0          0       0   \n",
       "2      0      1            0                    0          0       1   \n",
       "3      1      0            0                    0          0       0   \n",
       "4      1      0            0                    0          0       1   \n",
       "\n",
       "   test_indication  \n",
       "0                2  \n",
       "1                2  \n",
       "2                2  \n",
       "3                2  \n",
       "4                2  "
      ]
     },
     "execution_count": 19,
     "metadata": {},
     "output_type": "execute_result"
    }
   ],
   "source": [
    "X.head()"
   ]
  },
  {
   "cell_type": "code",
   "execution_count": 20,
   "metadata": {
    "scrolled": true
   },
   "outputs": [
    {
     "data": {
      "text/plain": [
       "0    0\n",
       "1    0\n",
       "2    0\n",
       "3    0\n",
       "4    0\n",
       "Name: corona_result, dtype: int32"
      ]
     },
     "execution_count": 20,
     "metadata": {},
     "output_type": "execute_result"
    }
   ],
   "source": [
    "y.head()"
   ]
  },
  {
   "cell_type": "code",
   "execution_count": 21,
   "metadata": {},
   "outputs": [],
   "source": [
    "#Splitting dataset into training and test\n",
    "\n",
    "X_train, X_test, y_train, y_test = train_test_split(X, y, test_size = 0.20, random_state = 0)"
   ]
  },
  {
   "cell_type": "markdown",
   "metadata": {},
   "source": [
    "#### Logistic Regression"
   ]
  },
  {
   "cell_type": "code",
   "execution_count": 22,
   "metadata": {},
   "outputs": [
    {
     "name": "stdout",
     "output_type": "stream",
     "text": [
      "Accuracy=95.8619\n",
      "Sensitivity=25.4526\n",
      "Specifity=1.4533\n"
     ]
    }
   ],
   "source": [
    "#Fitting Logistic Regression model to the training set\n",
    "\n",
    "lr = LogisticRegression()\n",
    "lr.fit(X_train, y_train)\n",
    "\n",
    "# Predicting the corona result i.e. y_pred based on the testing datasets i.e. x_test\n",
    "\n",
    "y_pred = lr.predict(X_test)\n",
    "\n",
    "# observing the accuracy, sensitivity and specifity of the model\n",
    "\n",
    "TP, FN, FP, TN = confusion_matrix(y_test, y_pred,labels=[1,0]).reshape(-1)\n",
    "\n",
    "lr_acc = accuracy_score(y_test, y_pred)*100 #accuracy score\n",
    "lr_sen = recall_score(y_test, y_pred)*100 #sensitivity score\n",
    "lr_spe = TP/(TN+FP)*100 #specifity score\n",
    "\n",
    "print('Accuracy=%.4f' % (lr_acc))\n",
    "print('Sensitivity=%.4f' % (lr_sen))\n",
    "print('Specifity=%.4f' % (lr_spe))"
   ]
  },
  {
   "cell_type": "code",
   "execution_count": 23,
   "metadata": {},
   "outputs": [
    {
     "name": "stdout",
     "output_type": "stream",
     "text": [
      "              precision    recall  f1-score   support\n",
      "\n",
      "           0       0.96      1.00      0.98     48372\n",
      "           1       0.93      0.25      0.40      2762\n",
      "\n",
      "    accuracy                           0.96     51134\n",
      "   macro avg       0.94      0.63      0.69     51134\n",
      "weighted avg       0.96      0.96      0.95     51134\n",
      "\n"
     ]
    }
   ],
   "source": [
    "print(classification_report(y_test, y_pred))"
   ]
  },
  {
   "cell_type": "markdown",
   "metadata": {},
   "source": [
    "#### Naive Bayes"
   ]
  },
  {
   "cell_type": "code",
   "execution_count": 24,
   "metadata": {},
   "outputs": [
    {
     "name": "stdout",
     "output_type": "stream",
     "text": [
      "Accuracy=94.7452\n",
      "Sensitivity=26.5025\n",
      "Specifity=1.5133\n"
     ]
    }
   ],
   "source": [
    "#Fitting Naive Bayes model to the training set\n",
    "\n",
    "nb = GaussianNB()\n",
    "nb.fit(X_train, y_train)\n",
    "\n",
    "# Predicting the corona result i.e. y_pred based on the testing datasets i.e. x_test\n",
    "\n",
    "y_pred = nb.predict(X_test)\n",
    "\n",
    "# observing the accuracy, sensitivity and specifity of the model\n",
    "\n",
    "TP, FN, FP, TN = confusion_matrix(y_test, y_pred,labels=[1,0]).reshape(-1)\n",
    "\n",
    "nb_acc = accuracy_score(y_test, y_pred)*100 #accuracy score\n",
    "nb_sen = recall_score(y_test, y_pred)*100 #sensitivity score\n",
    "nb_spe = TP/(TN+FP)*100 #specifity score\n",
    "\n",
    "print('Accuracy=%.4f' % (nb_acc))\n",
    "print('Sensitivity=%.4f' % (nb_sen))\n",
    "print('Specifity=%.4f' % (nb_spe))"
   ]
  },
  {
   "cell_type": "code",
   "execution_count": 25,
   "metadata": {},
   "outputs": [
    {
     "name": "stdout",
     "output_type": "stream",
     "text": [
      "              precision    recall  f1-score   support\n",
      "\n",
      "           0       0.96      0.99      0.97     48372\n",
      "           1       0.53      0.27      0.35      2762\n",
      "\n",
      "    accuracy                           0.95     51134\n",
      "   macro avg       0.74      0.63      0.66     51134\n",
      "weighted avg       0.94      0.95      0.94     51134\n",
      "\n"
     ]
    }
   ],
   "source": [
    "print(classification_report(y_test, y_pred))"
   ]
  },
  {
   "cell_type": "markdown",
   "metadata": {},
   "source": [
    "#### Support Vector Machine"
   ]
  },
  {
   "cell_type": "code",
   "execution_count": 26,
   "metadata": {},
   "outputs": [
    {
     "name": "stdout",
     "output_type": "stream",
     "text": [
      "Accuracy=96.9433\n",
      "Sensitivity=54.8516\n",
      "Specifity=3.1320\n"
     ]
    }
   ],
   "source": [
    "#Fitting Support Vector Machine model to the training set\n",
    "\n",
    "svc = SVC()\n",
    "svc.fit(X_train, y_train)\n",
    "\n",
    "# Predicting the corona result i.e. y_pred based on the testing datasets i.e. x_test\n",
    "\n",
    "y_pred = svc.predict(X_test)\n",
    "\n",
    "# observing the accuracy, sensitivity and specifity of the model\n",
    "\n",
    "TP, FN, FP, TN = confusion_matrix(y_test, y_pred,labels=[1,0]).reshape(-1)\n",
    "\n",
    "svm_acc = accuracy_score(y_test, y_pred)*100 #accuracy score\n",
    "svm_sen = recall_score(y_test, y_pred)*100 #sensitivity score\n",
    "svm_spe = TP/(TN+FP)*100 #specifity score\n",
    "\n",
    "print('Accuracy=%.4f' % (svm_acc))\n",
    "print('Sensitivity=%.4f' % (svm_sen))\n",
    "print('Specifity=%.4f' % (svm_spe))"
   ]
  },
  {
   "cell_type": "code",
   "execution_count": 27,
   "metadata": {},
   "outputs": [
    {
     "name": "stdout",
     "output_type": "stream",
     "text": [
      "              precision    recall  f1-score   support\n",
      "\n",
      "           0       0.97      0.99      0.98     48372\n",
      "           1       0.83      0.55      0.66      2762\n",
      "\n",
      "    accuracy                           0.97     51134\n",
      "   macro avg       0.90      0.77      0.82     51134\n",
      "weighted avg       0.97      0.97      0.97     51134\n",
      "\n"
     ]
    }
   ],
   "source": [
    "print(classification_report(y_test, y_pred))"
   ]
  },
  {
   "cell_type": "markdown",
   "metadata": {},
   "source": [
    "#### Decision Tree"
   ]
  },
  {
   "cell_type": "code",
   "execution_count": 28,
   "metadata": {},
   "outputs": [
    {
     "name": "stdout",
     "output_type": "stream",
     "text": [
      "Accuracy=96.9453\n",
      "Sensitivity=59.2686\n",
      "Specifity=3.3842\n"
     ]
    }
   ],
   "source": [
    "#Fitting Decision Tree model to the training set\n",
    "\n",
    "dt = DecisionTreeClassifier()\n",
    "dt.fit(X_train, y_train)\n",
    "\n",
    "# Predicting the corona result i.e. y_pred based on the testing datasets i.e. x_test\n",
    "\n",
    "y_pred = dt.predict(X_test)\n",
    "\n",
    "# observing the accuracy, sensitivity and specifity of the model\n",
    "\n",
    "TP, FN, FP, TN = confusion_matrix(y_test, y_pred,labels=[1,0]).reshape(-1)\n",
    "\n",
    "dt_acc = accuracy_score(y_test, y_pred)*100 #accuracy score\n",
    "dt_sen = recall_score(y_test, y_pred)*100 #sensitivity score\n",
    "dt_spe = TP/(TN+FP)*100 #specifity score\n",
    "\n",
    "print('Accuracy=%.4f' % (dt_acc))\n",
    "print('Sensitivity=%.4f' % (dt_sen))\n",
    "print('Specifity=%.4f' % (dt_spe))"
   ]
  },
  {
   "cell_type": "code",
   "execution_count": 29,
   "metadata": {},
   "outputs": [
    {
     "name": "stdout",
     "output_type": "stream",
     "text": [
      "              precision    recall  f1-score   support\n",
      "\n",
      "           0       0.98      0.99      0.98     48372\n",
      "           1       0.79      0.59      0.68      2762\n",
      "\n",
      "    accuracy                           0.97     51134\n",
      "   macro avg       0.88      0.79      0.83     51134\n",
      "weighted avg       0.97      0.97      0.97     51134\n",
      "\n"
     ]
    }
   ],
   "source": [
    "print(classification_report(y_test, y_pred))"
   ]
  },
  {
   "cell_type": "markdown",
   "metadata": {},
   "source": [
    "#### Random Forest"
   ]
  },
  {
   "cell_type": "code",
   "execution_count": 30,
   "metadata": {},
   "outputs": [
    {
     "name": "stdout",
     "output_type": "stream",
     "text": [
      "Accuracy=96.9570\n",
      "Sensitivity=59.4859\n",
      "Specifity=3.3966\n"
     ]
    }
   ],
   "source": [
    "#Fitting Random Forest model to the training set\n",
    "\n",
    "rf = RandomForestClassifier()\n",
    "rf.fit(X_train, y_train)\n",
    "\n",
    "# Predicting the corona result i.e. y_pred based on the testing datasets i.e. x_test\n",
    "\n",
    "y_pred = rf.predict(X_test)\n",
    "\n",
    "# observing the accuracy, sensitivity and specifity of the model\n",
    "\n",
    "TP, FN, FP, TN = confusion_matrix(y_test, y_pred,labels=[1,0]).reshape(-1)\n",
    "\n",
    "rf_acc = accuracy_score(y_test, y_pred)*100 #accuracy score\n",
    "rf_sen = recall_score(y_test, y_pred)*100 #sensitivity score\n",
    "rf_spe = TP/(TN+FP)*100 #specifity score\n",
    "\n",
    "print('Accuracy=%.4f' % (rf_acc))\n",
    "print('Sensitivity=%.4f' % (rf_sen))\n",
    "print('Specifity=%.4f' % (rf_spe))"
   ]
  },
  {
   "cell_type": "code",
   "execution_count": 31,
   "metadata": {},
   "outputs": [
    {
     "name": "stdout",
     "output_type": "stream",
     "text": [
      "              precision    recall  f1-score   support\n",
      "\n",
      "           0       0.98      0.99      0.98     48372\n",
      "           1       0.79      0.59      0.68      2762\n",
      "\n",
      "    accuracy                           0.97     51134\n",
      "   macro avg       0.88      0.79      0.83     51134\n",
      "weighted avg       0.97      0.97      0.97     51134\n",
      "\n"
     ]
    }
   ],
   "source": [
    "print(classification_report(y_test, y_pred))"
   ]
  },
  {
   "cell_type": "markdown",
   "metadata": {},
   "source": [
    "#### K-Nearest Neighbors"
   ]
  },
  {
   "cell_type": "code",
   "execution_count": 32,
   "metadata": {},
   "outputs": [
    {
     "name": "stdout",
     "output_type": "stream",
     "text": [
      "Accuracy=96.6070\n",
      "Sensitivity=61.8030\n",
      "Specifity=3.5289\n"
     ]
    }
   ],
   "source": [
    "#Fitting KNN model to the training set\n",
    "\n",
    "knn = KNeighborsClassifier()\n",
    "knn.fit(X_train, y_train)\n",
    "\n",
    "# Predicting the corona result i.e. y_pred based on the testing datasets i.e. x_test\n",
    "\n",
    "y_pred = knn.predict(X_test)\n",
    "\n",
    "# observing the accuracy, sensitivity and specifity of the model\n",
    "\n",
    "TP, FN, FP, TN = confusion_matrix(y_test, y_pred,labels=[1,0]).reshape(-1)\n",
    "\n",
    "knn_acc = accuracy_score(y_test, y_pred)*100 #accuracy score\n",
    "knn_sen = recall_score(y_test, y_pred)*100 #sensitivity score\n",
    "knn_spe = TP/(TN+FP)*100 #specifity score\n",
    "\n",
    "print('Accuracy=%.4f' % (knn_acc))\n",
    "print('Sensitivity=%.4f' % (knn_sen))\n",
    "print('Specifity=%.4f' % (knn_spe))"
   ]
  },
  {
   "cell_type": "code",
   "execution_count": 33,
   "metadata": {},
   "outputs": [
    {
     "name": "stdout",
     "output_type": "stream",
     "text": [
      "              precision    recall  f1-score   support\n",
      "\n",
      "           0       0.98      0.99      0.98     48372\n",
      "           1       0.72      0.62      0.66      2762\n",
      "\n",
      "    accuracy                           0.97     51134\n",
      "   macro avg       0.85      0.80      0.82     51134\n",
      "weighted avg       0.96      0.97      0.96     51134\n",
      "\n"
     ]
    }
   ],
   "source": [
    "print(classification_report(y_test, y_pred))"
   ]
  },
  {
   "cell_type": "markdown",
   "metadata": {},
   "source": [
    "#### Extreme Gradient Boosting"
   ]
  },
  {
   "cell_type": "code",
   "execution_count": 34,
   "metadata": {},
   "outputs": [
    {
     "name": "stderr",
     "output_type": "stream",
     "text": [
      "D:\\Softwares\\Anaconda3\\lib\\site-packages\\xgboost\\sklearn.py:1146: UserWarning: The use of label encoder in XGBClassifier is deprecated and will be removed in a future release. To remove this warning, do the following: 1) Pass option use_label_encoder=False when constructing XGBClassifier object; and 2) Encode your labels (y) as integers starting with 0, i.e. 0, 1, 2, ..., [num_class - 1].\n",
      "  warnings.warn(label_encoder_deprecation_msg, UserWarning)\n"
     ]
    },
    {
     "name": "stdout",
     "output_type": "stream",
     "text": [
      "[16:48:38] WARNING: C:/Users/Administrator/workspace/xgboost-win64_release_1.4.0/src/learner.cc:1095: Starting in XGBoost 1.3.0, the default evaluation metric used with the objective 'binary:logistic' was changed from 'error' to 'logloss'. Explicitly set eval_metric if you'd like to restore the old behavior.\n",
      "Accuracy=96.9375\n",
      "Sensitivity=54.7429\n",
      "Specifity=3.1258\n"
     ]
    }
   ],
   "source": [
    "#Fitting XGB model to the training set\n",
    "\n",
    "xgb = XGBClassifier(random_state =1)\n",
    "xgb.fit(X_train, y_train)\n",
    "\n",
    "# Predicting the corona result i.e. y_pred based on the testing datasets i.e. x_test\n",
    "\n",
    "y_pred = xgb.predict(X_test)\n",
    "\n",
    "# observing the accuracy, sensitivity and specifity of the model\n",
    "\n",
    "TP, FN, FP, TN = confusion_matrix(y_test, y_pred,labels=[1,0]).reshape(-1)\n",
    "\n",
    "xgb_acc = accuracy_score(y_test, y_pred)*100 #accuracy score\n",
    "xgb_sen = recall_score(y_test, y_pred)*100 #sensitivity score\n",
    "xgb_spe = TP/(TN+FP)*100 #specifity score\n",
    "\n",
    "print('Accuracy=%.4f' % (xgb_acc))\n",
    "print('Sensitivity=%.4f' % (xgb_sen))\n",
    "print('Specifity=%.4f' % (xgb_spe))"
   ]
  },
  {
   "cell_type": "code",
   "execution_count": 35,
   "metadata": {},
   "outputs": [
    {
     "name": "stdout",
     "output_type": "stream",
     "text": [
      "              precision    recall  f1-score   support\n",
      "\n",
      "           0       0.97      0.99      0.98     48372\n",
      "           1       0.83      0.55      0.66      2762\n",
      "\n",
      "    accuracy                           0.97     51134\n",
      "   macro avg       0.90      0.77      0.82     51134\n",
      "weighted avg       0.97      0.97      0.97     51134\n",
      "\n"
     ]
    }
   ],
   "source": [
    "print(classification_report(y_test, y_pred))"
   ]
  },
  {
   "cell_type": "markdown",
   "metadata": {},
   "source": [
    "### Step 6: Performance Evaluation"
   ]
  },
  {
   "cell_type": "code",
   "execution_count": 36,
   "metadata": {
    "pycharm": {
     "is_executing": true
    }
   },
   "outputs": [
    {
     "data": {
      "text/html": [
       "<div>\n",
       "<style scoped>\n",
       "    .dataframe tbody tr th:only-of-type {\n",
       "        vertical-align: middle;\n",
       "    }\n",
       "\n",
       "    .dataframe tbody tr th {\n",
       "        vertical-align: top;\n",
       "    }\n",
       "\n",
       "    .dataframe thead th {\n",
       "        text-align: right;\n",
       "    }\n",
       "</style>\n",
       "<table border=\"1\" class=\"dataframe\">\n",
       "  <thead>\n",
       "    <tr style=\"text-align: right;\">\n",
       "      <th></th>\n",
       "      <th>Model</th>\n",
       "      <th>Accuracy (%)</th>\n",
       "      <th>Sensitivity (%)</th>\n",
       "      <th>Specifity (%)</th>\n",
       "    </tr>\n",
       "  </thead>\n",
       "  <tbody>\n",
       "    <tr>\n",
       "      <th>0</th>\n",
       "      <td>Random Forest</td>\n",
       "      <td>96.957015</td>\n",
       "      <td>59.485880</td>\n",
       "      <td>3.396593</td>\n",
       "    </tr>\n",
       "    <tr>\n",
       "      <th>1</th>\n",
       "      <td>Decision Tree</td>\n",
       "      <td>96.945281</td>\n",
       "      <td>59.268646</td>\n",
       "      <td>3.384189</td>\n",
       "    </tr>\n",
       "    <tr>\n",
       "      <th>2</th>\n",
       "      <td>Support Vector Machines</td>\n",
       "      <td>96.943325</td>\n",
       "      <td>54.851557</td>\n",
       "      <td>3.131977</td>\n",
       "    </tr>\n",
       "    <tr>\n",
       "      <th>3</th>\n",
       "      <td>Gradient Boosting Classifier</td>\n",
       "      <td>96.937458</td>\n",
       "      <td>54.742940</td>\n",
       "      <td>3.125775</td>\n",
       "    </tr>\n",
       "    <tr>\n",
       "      <th>4</th>\n",
       "      <td>KNN</td>\n",
       "      <td>96.606954</td>\n",
       "      <td>61.803041</td>\n",
       "      <td>3.528901</td>\n",
       "    </tr>\n",
       "    <tr>\n",
       "      <th>5</th>\n",
       "      <td>Logistic Regression</td>\n",
       "      <td>95.861853</td>\n",
       "      <td>25.452571</td>\n",
       "      <td>1.453320</td>\n",
       "    </tr>\n",
       "    <tr>\n",
       "      <th>6</th>\n",
       "      <td>Naive Bayes</td>\n",
       "      <td>94.745179</td>\n",
       "      <td>26.502534</td>\n",
       "      <td>1.513272</td>\n",
       "    </tr>\n",
       "  </tbody>\n",
       "</table>\n",
       "</div>"
      ],
      "text/plain": [
       "                          Model  Accuracy (%)  Sensitivity (%)  Specifity (%)\n",
       "0                 Random Forest     96.957015        59.485880       3.396593\n",
       "1                 Decision Tree     96.945281        59.268646       3.384189\n",
       "2       Support Vector Machines     96.943325        54.851557       3.131977\n",
       "3  Gradient Boosting Classifier     96.937458        54.742940       3.125775\n",
       "4                           KNN     96.606954        61.803041       3.528901\n",
       "5           Logistic Regression     95.861853        25.452571       1.453320\n",
       "6                   Naive Bayes     94.745179        26.502534       1.513272"
      ]
     },
     "execution_count": 36,
     "metadata": {},
     "output_type": "execute_result"
    }
   ],
   "source": [
    "# generate a table showing performance of each models i.e. accuracy\n",
    "\n",
    "models = pd.DataFrame({\n",
    "    'Model': ['Support Vector Machines', 'KNN', 'Logistic Regression', 'Random Forest', 'Naive Bayes',   \n",
    "              'Decision Tree', 'Gradient Boosting Classifier'],\n",
    "    'Accuracy (%)': [svm_acc, knn_acc, lr_acc, rf_acc, nb_acc, dt_acc, xgb_acc],\n",
    "    'Sensitivity (%)': [svm_sen, knn_sen, lr_sen, rf_sen, nb_sen, dt_sen, xgb_sen],\n",
    "    'Specifity (%)': [svm_spe, knn_spe, lr_spe, rf_spe, nb_spe, dt_spe, xgb_spe]})\n",
    "models.sort_values(by='Accuracy (%)', ascending=False).reset_index(drop=True)"
   ]
  },
  {
   "cell_type": "code",
   "execution_count": 37,
   "metadata": {
    "scrolled": true
   },
   "outputs": [
    {
     "name": "stdout",
     "output_type": "stream",
     "text": [
      "              precision    recall  f1-score   support\n",
      "\n",
      "           0       0.97      0.99      0.98     48372\n",
      "           1       0.83      0.55      0.66      2762\n",
      "\n",
      "    accuracy                           0.97     51134\n",
      "   macro avg       0.90      0.77      0.82     51134\n",
      "weighted avg       0.97      0.97      0.97     51134\n",
      "\n"
     ]
    }
   ],
   "source": [
    "print(classification_report(y_test, y_pred))"
   ]
  },
  {
   "cell_type": "code",
   "execution_count": 43,
   "metadata": {},
   "outputs": [],
   "source": [
    "# choosing the final classifier model with tuned parameters\n",
    "\n",
    "classifier = DecisionTreeClassifier()\n",
    "\n",
    "classifier.fit(X_train, y_train)\n",
    "y_pred = classifier.predict(X_test)"
   ]
  },
  {
   "cell_type": "code",
   "execution_count": 44,
   "metadata": {},
   "outputs": [
    {
     "data": {
      "text/plain": [
       "0.901254844481768"
      ]
     },
     "execution_count": 44,
     "metadata": {},
     "output_type": "execute_result"
    }
   ],
   "source": [
    "# evaluating final model performance using AUROC method\n",
    "roc_auc_score(y_train, classifier.predict_proba(X_train)[:, 1])"
   ]
  },
  {
   "cell_type": "code",
   "execution_count": 47,
   "metadata": {},
   "outputs": [
    {
     "name": "stdout",
     "output_type": "stream",
     "text": [
      "No Skill: ROC AUC=0.500\n",
      "Decision Tree: ROC AUC=0.897\n"
     ]
    },
    {
     "data": {
      "image/png": "[encoded data removed]",
      "text/plain": [
       "<Figure size 432x288 with 1 Axes>"
      ]
     },
     "metadata": {},
     "output_type": "display_data"
    }
   ],
   "source": [
    "# generate a no skill prediction (majority class)\n",
    "ns_probs = [0 for _ in range(len(y_test))]\n",
    "\n",
    "# predict probabilities\n",
    "dt_probs = classifier.predict_proba(X_test)\n",
    "# keep probabilities for the positive outcome only\n",
    "dt_probs = dt_probs[:, 1]\n",
    "\n",
    "# calculate scores\n",
    "ns_auc = roc_auc_score(y_test, ns_probs)\n",
    "dt_auc = roc_auc_score(y_test, dt_probs)\n",
    "\n",
    "# summarize scores\n",
    "print('No Skill: ROC AUC=%.3f' % (ns_auc))\n",
    "print('Decision Tree: ROC AUC=%.3f' % (dt_auc))\n",
    "\n",
    "# calculate roc curves\n",
    "ns_fpr, ns_tpr, _ = roc_curve(y_test, ns_probs)\n",
    "lr_fpr, lr_tpr, _ = roc_curve(y_test, dt_probs)\n",
    "\n",
    "# plot the roc curve for the model\n",
    "plt.plot(ns_fpr, ns_tpr, linestyle='--', label='No Skill')\n",
    "plt.plot(lr_fpr, lr_tpr, marker='.', label='DT')\n",
    "plt.xlabel('False Positive Rate')\n",
    "plt.ylabel('True Positive Rate')\n",
    "plt.legend()\n",
    "plt.show()"
   ]
  },
  {
   "cell_type": "code",
   "execution_count": null,
   "metadata": {},
   "outputs": [],
   "source": []
  }
 ],
 "metadata": {
  "kernelspec": {
   "display_name": "Python [conda env:root] *",
   "language": "python",
   "name": "conda-root-py"
  },
  "language_info": {
   "codemirror_mode": {
    "name": "ipython",
    "version": 3
   },
   "file_extension": ".py",
   "mimetype": "text/x-python",
   "name": "python",
   "nbconvert_exporter": "python",
   "pygments_lexer": "ipython3",
   "version": "3.8.3"
  }
 },
 "nbformat": 4,
 "nbformat_minor": 4
}
